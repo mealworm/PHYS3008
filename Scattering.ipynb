{
 "cells": [
  {
   "cell_type": "markdown",
   "metadata": {},
   "source": [
    "# Radiative Transfer: Scattering\n",
    "Photons are generated at the centre of a sphere of radius $L$ and scatter within the medium with a mean free path of $l$ without being absorbed. Let's write a program to plot the mean number of times the photons scatter $N$ as a function of $L/l = τ$. We can compare this to the approximate behavior in the optically thin $\\tau\\ll 1$ and optically thick $\\tau\\gg 1$ cases.\n"
   ]
  },
  {
   "cell_type": "markdown",
   "metadata": {},
   "source": [
    "## Pre-Requisites\n",
    "As usual, we start with importing the necessary modules."
   ]
  },
  {
   "cell_type": "code",
   "execution_count": null,
   "metadata": {},
   "outputs": [],
   "source": [
    "import numpy as np\n",
    "from numpy import random\n",
    "\n",
    "import matplotlib.pyplot as plt\n",
    "\n",
    "from math import pi, sqrt, sin, cos, log10"
   ]
  },
  {
   "cell_type": "markdown",
   "metadata": {},
   "source": [
    "Let's write a function that will generate a vector with a random direction and a length drawn from an exponential distribution $P\\propto e^{-r}$. One way to do this is to generate a random value of $\\phi$ between $0$ and $2\\pi$ and a random value of $z$ between $-r$ and $r$. We can then convert from cylindrical coordinates $(r,z,\\phi)$ to Cartesian coordinates $(x,y,z)$.\n",
    "\n",
    "## Exercise 1\n",
    "Write the code to convert from $(r,z,\\phi)$ to $(x,y,z)$ (a hint is provided)."
   ]
  },
  {
   "cell_type": "code",
   "execution_count": null,
   "metadata": {},
   "outputs": [],
   "source": [
    "def random_direction_cartesian():\n",
    "\tr = random.exponential(1.0)\n",
    "\tphi = 2.0 * pi * random.random()\t\t# random.random() generates a random value from 0 to 1.\n",
    "\tz = r * (1.0 - 2.0 * random.random())\n",
    "\tr_xy = sqrt(r*r-z*z)\n",
    "\t# Your code here\n",
    "\tx = 0 # Use the relationship bewtween r_xy and phi\n",
    "\ty = 0 # Use the relationship bewtween r_xy and phi\n",
    "\tz = z\n",
    "\treturn x,y,z"
   ]
  },
  {
   "cell_type": "markdown",
   "metadata": {},
   "source": [
    "Now let's write a function to calculate the differential probability of a photon being absorbed after traveling an infinitesimal path length."
   ]
  },
  {
   "cell_type": "code",
   "execution_count": null,
   "metadata": {},
   "outputs": [],
   "source": [
    "def radius(x,y,z):\n",
    "\treturn sqrt(x*x + y*y + z*z)"
   ]
  },
  {
   "cell_type": "markdown",
   "metadata": {},
   "source": [
    "Let's write a function that determines the fraction of photons able to pass through a medium with optical depth $\\tau_{\\nu}$ without being absorbed."
   ]
  },
  {
   "cell_type": "code",
   "execution_count": null,
   "metadata": {},
   "outputs": [],
   "source": [
    "def mean_number_of_scatterings(tau) : \n",
    "    number_of_photons   = int(10000/tau)            # Adjust the number of initial photons according to the number of steps expected, to save time.\n",
    "    total_number_of_scatterings = 0\n",
    "    for photon in range(number_of_photons):\n",
    "        number_of_steps = 0\n",
    "        x, y, z = 0.0, 0.0, 0.0         # Start from the centre of the medium.\n",
    "        while (radius(x,y,z) < tau) :   # Keep going until the photon has escaped\n",
    "            number_of_steps = number_of_steps + 1\n",
    "            x_step, y_step, z_step = random_direction_cartesian()\n",
    "            x = x + x_step\n",
    "            y = y + y_step\n",
    "            z = z + z_step\n",
    "        total_number_of_scatterings = total_number_of_scatterings + number_of_steps - 1\n",
    "    return total_number_of_scatterings / number_of_photons\n",
    "          \n",
    "\n",
    "\n"
   ]
  },
  {
   "cell_type": "markdown",
   "metadata": {},
   "source": [
    "## Exercise 2\n",
    "Write a function that predicts the mean number of scatterings in the optically thin case ($\\tau\\ll 1$)."
   ]
  },
  {
   "cell_type": "code",
   "execution_count": null,
   "metadata": {},
   "outputs": [],
   "source": [
    "def predicted_number_optically_thin(tau) : \n",
    "\n",
    "    # your code here\n",
    "    return 0 # Replace with a function of tau"
   ]
  },
  {
   "cell_type": "markdown",
   "metadata": {},
   "source": [
    "## Exercise 3\n",
    "Write a function that predicts the mean number of scatterings in the optically thick case ($\\tau\\gg 1$)."
   ]
  },
  {
   "cell_type": "code",
   "execution_count": null,
   "metadata": {},
   "outputs": [],
   "source": [
    "def predicted_number_optically_thick(tau) : \n",
    "\n",
    "    # your code here\n",
    "    return 0 # Replace with a function of tau"
   ]
  },
  {
   "cell_type": "markdown",
   "metadata": {},
   "source": [
    "Now let's calculate the observed and predicted number as a function of $\\tau$."
   ]
  },
  {
   "cell_type": "code",
   "execution_count": null,
   "metadata": {},
   "outputs": [],
   "source": [
    "\n",
    "seed    = 333\n",
    "random.seed(seed) \n",
    "logtaurange = np.arange(-2.0, 2.1, 0.1)\n",
    "taurange = 10.0**logtaurange\n",
    "observed = []\n",
    "predicted_thin = []\n",
    "predicted_thick = []\n",
    "\n",
    "for tau in taurange:\n",
    "    observed.append(mean_number_of_scatterings(tau))\n",
    "    predicted_thin.append(predicted_number_optically_thin(tau))\n",
    "    predicted_thick.append(predicted_number_optically_thick(tau))"
   ]
  },
  {
   "cell_type": "markdown",
   "metadata": {},
   "source": [
    "Let's plot the result."
   ]
  },
  {
   "cell_type": "code",
   "execution_count": null,
   "metadata": {
    "tags": []
   },
   "outputs": [],
   "source": [
    "plt.loglog(taurange, observed, label = 'Observed')\n",
    "plt.loglog(taurange, predicted_thin, label = 'Predicted: optically thin')\n",
    "plt.loglog(taurange, predicted_thick, label = 'Prediced: optically thick')\n",
    "#pl.plot(logtaurange, predicted_1)\n",
    "#pl.plot(logtaurange, predicted_2)\n",
    "plt.xlabel('optical depth')\n",
    "plt.ylabel('mean number of steps')\n",
    "plt.legend()\n"
   ]
  },
  {
   "source": [
    "## Submission\n",
    "\n",
    "Before you submit your work you should make a few checks that everything works fine.\n",
    "\n",
    "1. Save your notebook as a PDF (File->Download As->PDF). This document will help you debugging in the next step.\n",
    "1. If PDF export does not work: You can do File->Print Preview and then print to a file.\n",
    "1. Restart the kernel and rerun the entire notebook (Kernel->Restart & Run All). This will delete all variables (but not your code) and rerun the notebook in one go. If this does not go through the endthen you have to fix it. You will see at which cell the run stopped. A common mistake is using a variable that is defined only at a later stage.\n",
    "1. You think you fixed everything? Redo step 2 (Kernel->Restart & Run All)\n",
    "\n",
    "You have to download and submit 2 files, the jupyter notebook and a pdf.\n",
    "- Jupyter notebook. File->Download As->Notebook (.ipynb). Save this file on your disk.\n",
    "- PDF file. File->Download As->PDF. Save this file on your disk.\n",
    "- If PDF export does not work. You can do File->Print Preview and then print to a file.\n",
    "\n",
    "Please submit the two files on Ulwazi."
   ],
   "cell_type": "markdown",
   "metadata": {}
  }
 ],
 "metadata": {
  "language_info": {
   "codemirror_mode": {
    "name": "ipython",
    "version": 3
   },
   "file_extension": ".py",
   "mimetype": "text/x-python",
   "name": "python",
   "nbconvert_exporter": "python",
   "pygments_lexer": "ipython3",
   "version": "3.8.5"
  }
 },
 "nbformat": 4,
 "nbformat_minor": 4
}
